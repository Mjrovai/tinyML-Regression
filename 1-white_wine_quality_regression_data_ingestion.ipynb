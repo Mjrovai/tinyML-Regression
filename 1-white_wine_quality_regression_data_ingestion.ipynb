{
 "cells": [
  {
   "cell_type": "markdown",
   "id": "f5343d1b",
   "metadata": {},
   "source": [
    "# White Wine Regression - EI Data Ingestion \n",
    "- Developed by Marcelo Rovai @ 14 february 2022\n",
    "- Edge Impulse Data Ingestion code was based on [ShawnHymel](https://github.com/ShawnHymelImage) [Classification: Raw Uploader](https://github.com/ShawnHymel/computer-vision-with-embedded-machine-learning/blob/master/1.3.1%20-%20Using%20Colab%20to%20Curate%20and%20Upload%20a%20Dataset/ei_image_raw_uploader.ipynb)"
   ]
  },
  {
   "cell_type": "code",
   "execution_count": 1,
   "id": "66e0b9e9",
   "metadata": {},
   "outputs": [],
   "source": [
    "import numpy as np\n",
    "import pandas as pd \n",
    "import matplotlib.pyplot as plt\n",
    "import seaborn as sns"
   ]
  },
  {
   "cell_type": "code",
   "execution_count": 2,
   "id": "9fed87e2",
   "metadata": {},
   "outputs": [],
   "source": [
    "import random\n",
    "random.seed(42)"
   ]
  },
  {
   "cell_type": "code",
   "execution_count": 3,
   "id": "ba29255b",
   "metadata": {},
   "outputs": [],
   "source": [
    "from matplotlib import rcParams\n",
    "rcParams['figure.figsize'] = (10, 6)\n",
    "rcParams['axes.spines.top'] = False\n",
    "rcParams['axes.spines.right'] = False"
   ]
  },
  {
   "cell_type": "markdown",
   "id": "34f2ed3a",
   "metadata": {},
   "source": [
    "## Dataset\n",
    "- https://archive.ics.uci.edu/ml/datasets/wine+quality\n",
    "\n",
    "P. Cortez, A. Cerdeira, F. Almeida, T. Matos and J. Reis. \n",
    "- Modeling wine preferences by data mining from physicochemical properties. In Decision Support Systems,\n",
    "- Elsevier, 47(4):547-553, 2009."
   ]
  },
  {
   "cell_type": "code",
   "execution_count": 4,
   "id": "b0c2dee6",
   "metadata": {},
   "outputs": [
    {
     "name": "stdout",
     "output_type": "stream",
     "text": [
      "winequality-red.csv            winequality-white.csv\r\n",
      "winequality-red_regression.csv\r\n"
     ]
    }
   ],
   "source": [
    "!ls ./data"
   ]
  },
  {
   "cell_type": "code",
   "execution_count": 54,
   "id": "32466580",
   "metadata": {},
   "outputs": [
    {
     "data": {
      "text/plain": [
       "(4898, 12)"
      ]
     },
     "execution_count": 54,
     "metadata": {},
     "output_type": "execute_result"
    }
   ],
   "source": [
    "df = pd.read_csv('./data/winequality-white.csv', delimiter=';')\n",
    "df.shape"
   ]
  },
  {
   "cell_type": "code",
   "execution_count": 55,
   "id": "f5f71aca",
   "metadata": {},
   "outputs": [
    {
     "data": {
      "text/html": [
       "<div>\n",
       "<style scoped>\n",
       "    .dataframe tbody tr th:only-of-type {\n",
       "        vertical-align: middle;\n",
       "    }\n",
       "\n",
       "    .dataframe tbody tr th {\n",
       "        vertical-align: top;\n",
       "    }\n",
       "\n",
       "    .dataframe thead th {\n",
       "        text-align: right;\n",
       "    }\n",
       "</style>\n",
       "<table border=\"1\" class=\"dataframe\">\n",
       "  <thead>\n",
       "    <tr style=\"text-align: right;\">\n",
       "      <th></th>\n",
       "      <th>fixed acidity</th>\n",
       "      <th>volatile acidity</th>\n",
       "      <th>citric acid</th>\n",
       "      <th>residual sugar</th>\n",
       "      <th>chlorides</th>\n",
       "      <th>free sulfur dioxide</th>\n",
       "      <th>total sulfur dioxide</th>\n",
       "      <th>density</th>\n",
       "      <th>pH</th>\n",
       "      <th>sulphates</th>\n",
       "      <th>alcohol</th>\n",
       "      <th>quality</th>\n",
       "    </tr>\n",
       "  </thead>\n",
       "  <tbody>\n",
       "    <tr>\n",
       "      <th>0</th>\n",
       "      <td>7.0</td>\n",
       "      <td>0.27</td>\n",
       "      <td>0.36</td>\n",
       "      <td>20.7</td>\n",
       "      <td>0.045</td>\n",
       "      <td>45.0</td>\n",
       "      <td>170.0</td>\n",
       "      <td>1.0010</td>\n",
       "      <td>3.00</td>\n",
       "      <td>0.45</td>\n",
       "      <td>8.8</td>\n",
       "      <td>6</td>\n",
       "    </tr>\n",
       "    <tr>\n",
       "      <th>1</th>\n",
       "      <td>6.3</td>\n",
       "      <td>0.30</td>\n",
       "      <td>0.34</td>\n",
       "      <td>1.6</td>\n",
       "      <td>0.049</td>\n",
       "      <td>14.0</td>\n",
       "      <td>132.0</td>\n",
       "      <td>0.9940</td>\n",
       "      <td>3.30</td>\n",
       "      <td>0.49</td>\n",
       "      <td>9.5</td>\n",
       "      <td>6</td>\n",
       "    </tr>\n",
       "    <tr>\n",
       "      <th>2</th>\n",
       "      <td>8.1</td>\n",
       "      <td>0.28</td>\n",
       "      <td>0.40</td>\n",
       "      <td>6.9</td>\n",
       "      <td>0.050</td>\n",
       "      <td>30.0</td>\n",
       "      <td>97.0</td>\n",
       "      <td>0.9951</td>\n",
       "      <td>3.26</td>\n",
       "      <td>0.44</td>\n",
       "      <td>10.1</td>\n",
       "      <td>6</td>\n",
       "    </tr>\n",
       "    <tr>\n",
       "      <th>3</th>\n",
       "      <td>7.2</td>\n",
       "      <td>0.23</td>\n",
       "      <td>0.32</td>\n",
       "      <td>8.5</td>\n",
       "      <td>0.058</td>\n",
       "      <td>47.0</td>\n",
       "      <td>186.0</td>\n",
       "      <td>0.9956</td>\n",
       "      <td>3.19</td>\n",
       "      <td>0.40</td>\n",
       "      <td>9.9</td>\n",
       "      <td>6</td>\n",
       "    </tr>\n",
       "    <tr>\n",
       "      <th>4</th>\n",
       "      <td>7.2</td>\n",
       "      <td>0.23</td>\n",
       "      <td>0.32</td>\n",
       "      <td>8.5</td>\n",
       "      <td>0.058</td>\n",
       "      <td>47.0</td>\n",
       "      <td>186.0</td>\n",
       "      <td>0.9956</td>\n",
       "      <td>3.19</td>\n",
       "      <td>0.40</td>\n",
       "      <td>9.9</td>\n",
       "      <td>6</td>\n",
       "    </tr>\n",
       "  </tbody>\n",
       "</table>\n",
       "</div>"
      ],
      "text/plain": [
       "   fixed acidity  volatile acidity  citric acid  residual sugar  chlorides  \\\n",
       "0            7.0              0.27         0.36            20.7      0.045   \n",
       "1            6.3              0.30         0.34             1.6      0.049   \n",
       "2            8.1              0.28         0.40             6.9      0.050   \n",
       "3            7.2              0.23         0.32             8.5      0.058   \n",
       "4            7.2              0.23         0.32             8.5      0.058   \n",
       "\n",
       "   free sulfur dioxide  total sulfur dioxide  density    pH  sulphates  \\\n",
       "0                 45.0                 170.0   1.0010  3.00       0.45   \n",
       "1                 14.0                 132.0   0.9940  3.30       0.49   \n",
       "2                 30.0                  97.0   0.9951  3.26       0.44   \n",
       "3                 47.0                 186.0   0.9956  3.19       0.40   \n",
       "4                 47.0                 186.0   0.9956  3.19       0.40   \n",
       "\n",
       "   alcohol  quality  \n",
       "0      8.8        6  \n",
       "1      9.5        6  \n",
       "2     10.1        6  \n",
       "3      9.9        6  \n",
       "4      9.9        6  "
      ]
     },
     "execution_count": 55,
     "metadata": {},
     "output_type": "execute_result"
    }
   ],
   "source": [
    "df.head()"
   ]
  },
  {
   "cell_type": "code",
   "execution_count": 56,
   "id": "39aa1008",
   "metadata": {},
   "outputs": [
    {
     "name": "stdout",
     "output_type": "stream",
     "text": [
      "<class 'pandas.core.frame.DataFrame'>\n",
      "RangeIndex: 4898 entries, 0 to 4897\n",
      "Data columns (total 12 columns):\n",
      " #   Column                Non-Null Count  Dtype  \n",
      "---  ------                --------------  -----  \n",
      " 0   fixed acidity         4898 non-null   float64\n",
      " 1   volatile acidity      4898 non-null   float64\n",
      " 2   citric acid           4898 non-null   float64\n",
      " 3   residual sugar        4898 non-null   float64\n",
      " 4   chlorides             4898 non-null   float64\n",
      " 5   free sulfur dioxide   4898 non-null   float64\n",
      " 6   total sulfur dioxide  4898 non-null   float64\n",
      " 7   density               4898 non-null   float64\n",
      " 8   pH                    4898 non-null   float64\n",
      " 9   sulphates             4898 non-null   float64\n",
      " 10  alcohol               4898 non-null   float64\n",
      " 11  quality               4898 non-null   int64  \n",
      "dtypes: float64(11), int64(1)\n",
      "memory usage: 459.3 KB\n"
     ]
    }
   ],
   "source": [
    "df.info()"
   ]
  },
  {
   "cell_type": "code",
   "execution_count": 57,
   "id": "0a3fea84",
   "metadata": {},
   "outputs": [
    {
     "data": {
      "text/plain": [
       "fixed acidity           0\n",
       "volatile acidity        0\n",
       "citric acid             0\n",
       "residual sugar          0\n",
       "chlorides               0\n",
       "free sulfur dioxide     0\n",
       "total sulfur dioxide    0\n",
       "density                 0\n",
       "pH                      0\n",
       "sulphates               0\n",
       "alcohol                 0\n",
       "quality                 0\n",
       "dtype: int64"
      ]
     },
     "execution_count": 57,
     "metadata": {},
     "output_type": "execute_result"
    }
   ],
   "source": [
    "# Verify if values are all non \n",
    "df.isnull().sum()"
   ]
  },
  {
   "cell_type": "code",
   "execution_count": 58,
   "id": "d1ae1ac0",
   "metadata": {},
   "outputs": [
    {
     "data": {
      "text/plain": [
       "6    2198\n",
       "5    1457\n",
       "7     880\n",
       "8     175\n",
       "4     163\n",
       "3      20\n",
       "9       5\n",
       "Name: quality, dtype: int64"
      ]
     },
     "execution_count": 58,
     "metadata": {},
     "output_type": "execute_result"
    }
   ],
   "source": [
    "df.quality.value_counts()"
   ]
  },
  {
   "cell_type": "code",
   "execution_count": 59,
   "id": "93d25954",
   "metadata": {},
   "outputs": [
    {
     "data": {
      "image/png": "[encoded data removed]",
      "text/plain": [
       "<Figure size 720x432 with 1 Axes>"
      ]
     },
     "metadata": {
      "needs_background": "light"
     },
     "output_type": "display_data"
    }
   ],
   "source": [
    "sns.countplot(x=df['quality']);"
   ]
  },
  {
   "cell_type": "code",
   "execution_count": 60,
   "id": "46dd937d",
   "metadata": {},
   "outputs": [
    {
     "data": {
      "text/plain": [
       "{3, 4, 5, 6, 7, 8, 9}"
      ]
     },
     "execution_count": 60,
     "metadata": {},
     "output_type": "execute_result"
    }
   ],
   "source": [
    "set(df.quality)"
   ]
  },
  {
   "cell_type": "code",
   "execution_count": 61,
   "id": "b5a86ee1",
   "metadata": {},
   "outputs": [
    {
     "data": {
      "text/html": [
       "<div>\n",
       "<style scoped>\n",
       "    .dataframe tbody tr th:only-of-type {\n",
       "        vertical-align: middle;\n",
       "    }\n",
       "\n",
       "    .dataframe tbody tr th {\n",
       "        vertical-align: top;\n",
       "    }\n",
       "\n",
       "    .dataframe thead th {\n",
       "        text-align: right;\n",
       "    }\n",
       "</style>\n",
       "<table border=\"1\" class=\"dataframe\">\n",
       "  <thead>\n",
       "    <tr style=\"text-align: right;\">\n",
       "      <th></th>\n",
       "      <th>count</th>\n",
       "      <th>mean</th>\n",
       "      <th>std</th>\n",
       "      <th>min</th>\n",
       "      <th>25%</th>\n",
       "      <th>50%</th>\n",
       "      <th>75%</th>\n",
       "      <th>max</th>\n",
       "    </tr>\n",
       "  </thead>\n",
       "  <tbody>\n",
       "    <tr>\n",
       "      <th>fixed acidity</th>\n",
       "      <td>4898.0</td>\n",
       "      <td>6.854788</td>\n",
       "      <td>0.843868</td>\n",
       "      <td>3.80000</td>\n",
       "      <td>6.300000</td>\n",
       "      <td>6.80000</td>\n",
       "      <td>7.3000</td>\n",
       "      <td>14.20000</td>\n",
       "    </tr>\n",
       "    <tr>\n",
       "      <th>volatile acidity</th>\n",
       "      <td>4898.0</td>\n",
       "      <td>0.278241</td>\n",
       "      <td>0.100795</td>\n",
       "      <td>0.08000</td>\n",
       "      <td>0.210000</td>\n",
       "      <td>0.26000</td>\n",
       "      <td>0.3200</td>\n",
       "      <td>1.10000</td>\n",
       "    </tr>\n",
       "    <tr>\n",
       "      <th>citric acid</th>\n",
       "      <td>4898.0</td>\n",
       "      <td>0.334192</td>\n",
       "      <td>0.121020</td>\n",
       "      <td>0.00000</td>\n",
       "      <td>0.270000</td>\n",
       "      <td>0.32000</td>\n",
       "      <td>0.3900</td>\n",
       "      <td>1.66000</td>\n",
       "    </tr>\n",
       "    <tr>\n",
       "      <th>residual sugar</th>\n",
       "      <td>4898.0</td>\n",
       "      <td>6.391415</td>\n",
       "      <td>5.072058</td>\n",
       "      <td>0.60000</td>\n",
       "      <td>1.700000</td>\n",
       "      <td>5.20000</td>\n",
       "      <td>9.9000</td>\n",
       "      <td>65.80000</td>\n",
       "    </tr>\n",
       "    <tr>\n",
       "      <th>chlorides</th>\n",
       "      <td>4898.0</td>\n",
       "      <td>0.045772</td>\n",
       "      <td>0.021848</td>\n",
       "      <td>0.00900</td>\n",
       "      <td>0.036000</td>\n",
       "      <td>0.04300</td>\n",
       "      <td>0.0500</td>\n",
       "      <td>0.34600</td>\n",
       "    </tr>\n",
       "    <tr>\n",
       "      <th>free sulfur dioxide</th>\n",
       "      <td>4898.0</td>\n",
       "      <td>35.308085</td>\n",
       "      <td>17.007137</td>\n",
       "      <td>2.00000</td>\n",
       "      <td>23.000000</td>\n",
       "      <td>34.00000</td>\n",
       "      <td>46.0000</td>\n",
       "      <td>289.00000</td>\n",
       "    </tr>\n",
       "    <tr>\n",
       "      <th>total sulfur dioxide</th>\n",
       "      <td>4898.0</td>\n",
       "      <td>138.360657</td>\n",
       "      <td>42.498065</td>\n",
       "      <td>9.00000</td>\n",
       "      <td>108.000000</td>\n",
       "      <td>134.00000</td>\n",
       "      <td>167.0000</td>\n",
       "      <td>440.00000</td>\n",
       "    </tr>\n",
       "    <tr>\n",
       "      <th>density</th>\n",
       "      <td>4898.0</td>\n",
       "      <td>0.994027</td>\n",
       "      <td>0.002991</td>\n",
       "      <td>0.98711</td>\n",
       "      <td>0.991723</td>\n",
       "      <td>0.99374</td>\n",
       "      <td>0.9961</td>\n",
       "      <td>1.03898</td>\n",
       "    </tr>\n",
       "    <tr>\n",
       "      <th>pH</th>\n",
       "      <td>4898.0</td>\n",
       "      <td>3.188267</td>\n",
       "      <td>0.151001</td>\n",
       "      <td>2.72000</td>\n",
       "      <td>3.090000</td>\n",
       "      <td>3.18000</td>\n",
       "      <td>3.2800</td>\n",
       "      <td>3.82000</td>\n",
       "    </tr>\n",
       "    <tr>\n",
       "      <th>sulphates</th>\n",
       "      <td>4898.0</td>\n",
       "      <td>0.489847</td>\n",
       "      <td>0.114126</td>\n",
       "      <td>0.22000</td>\n",
       "      <td>0.410000</td>\n",
       "      <td>0.47000</td>\n",
       "      <td>0.5500</td>\n",
       "      <td>1.08000</td>\n",
       "    </tr>\n",
       "    <tr>\n",
       "      <th>alcohol</th>\n",
       "      <td>4898.0</td>\n",
       "      <td>10.514267</td>\n",
       "      <td>1.230621</td>\n",
       "      <td>8.00000</td>\n",
       "      <td>9.500000</td>\n",
       "      <td>10.40000</td>\n",
       "      <td>11.4000</td>\n",
       "      <td>14.20000</td>\n",
       "    </tr>\n",
       "    <tr>\n",
       "      <th>quality</th>\n",
       "      <td>4898.0</td>\n",
       "      <td>5.877909</td>\n",
       "      <td>0.885639</td>\n",
       "      <td>3.00000</td>\n",
       "      <td>5.000000</td>\n",
       "      <td>6.00000</td>\n",
       "      <td>6.0000</td>\n",
       "      <td>9.00000</td>\n",
       "    </tr>\n",
       "  </tbody>\n",
       "</table>\n",
       "</div>"
      ],
      "text/plain": [
       "                       count        mean        std      min         25%  \\\n",
       "fixed acidity         4898.0    6.854788   0.843868  3.80000    6.300000   \n",
       "volatile acidity      4898.0    0.278241   0.100795  0.08000    0.210000   \n",
       "citric acid           4898.0    0.334192   0.121020  0.00000    0.270000   \n",
       "residual sugar        4898.0    6.391415   5.072058  0.60000    1.700000   \n",
       "chlorides             4898.0    0.045772   0.021848  0.00900    0.036000   \n",
       "free sulfur dioxide   4898.0   35.308085  17.007137  2.00000   23.000000   \n",
       "total sulfur dioxide  4898.0  138.360657  42.498065  9.00000  108.000000   \n",
       "density               4898.0    0.994027   0.002991  0.98711    0.991723   \n",
       "pH                    4898.0    3.188267   0.151001  2.72000    3.090000   \n",
       "sulphates             4898.0    0.489847   0.114126  0.22000    0.410000   \n",
       "alcohol               4898.0   10.514267   1.230621  8.00000    9.500000   \n",
       "quality               4898.0    5.877909   0.885639  3.00000    5.000000   \n",
       "\n",
       "                            50%       75%        max  \n",
       "fixed acidity           6.80000    7.3000   14.20000  \n",
       "volatile acidity        0.26000    0.3200    1.10000  \n",
       "citric acid             0.32000    0.3900    1.66000  \n",
       "residual sugar          5.20000    9.9000   65.80000  \n",
       "chlorides               0.04300    0.0500    0.34600  \n",
       "free sulfur dioxide    34.00000   46.0000  289.00000  \n",
       "total sulfur dioxide  134.00000  167.0000  440.00000  \n",
       "density                 0.99374    0.9961    1.03898  \n",
       "pH                      3.18000    3.2800    3.82000  \n",
       "sulphates               0.47000    0.5500    1.08000  \n",
       "alcohol                10.40000   11.4000   14.20000  \n",
       "quality                 6.00000    6.0000    9.00000  "
      ]
     },
     "execution_count": 61,
     "metadata": {},
     "output_type": "execute_result"
    }
   ],
   "source": [
    "df.describe().T"
   ]
  },
  {
   "cell_type": "code",
   "execution_count": 62,
   "id": "1335b3b6",
   "metadata": {},
   "outputs": [
    {
     "data": {
      "text/plain": [
       "['fixed acidity',\n",
       " 'volatile acidity',\n",
       " 'citric acid',\n",
       " 'residual sugar',\n",
       " 'chlorides',\n",
       " 'free sulfur dioxide',\n",
       " 'total sulfur dioxide',\n",
       " 'density',\n",
       " 'pH',\n",
       " 'sulphates',\n",
       " 'alcohol']"
      ]
     },
     "execution_count": 62,
     "metadata": {},
     "output_type": "execute_result"
    }
   ],
   "source": [
    "features_list = list(df.columns[:-1])\n",
    "features_list"
   ]
  },
  {
   "cell_type": "code",
   "execution_count": 63,
   "id": "c62c9e09",
   "metadata": {},
   "outputs": [
    {
     "data": {
      "image/png": "[encoded data removed]",
      "text/plain": [
       "<Figure size 720x432 with 12 Axes>"
      ]
     },
     "metadata": {
      "needs_background": "light"
     },
     "output_type": "display_data"
    }
   ],
   "source": [
    "df[features_list].hist(bins=30, \n",
    "                       edgecolor='b', \n",
    "                       linewidth=1.0,\n",
    "                       xlabelsize=8, \n",
    "                       ylabelsize=8, \n",
    "                       grid=False, \n",
    "                       figsize=(10,6), \n",
    "                       color='orange')    \n",
    "plt.tight_layout(rect=(0, 0, 1.2, 1.2))   \n",
    "plt.suptitle('White Wine Univariate Analysis', x=0.65, y=1.25, fontsize=20); "
   ]
  },
  {
   "cell_type": "markdown",
   "id": "9a4e3472",
   "metadata": {},
   "source": [
    "## Pre-Process data for EI Data Ingestion"
   ]
  },
  {
   "cell_type": "markdown",
   "id": "1cf2088c",
   "metadata": {},
   "source": [
    "Change target to string"
   ]
  },
  {
   "cell_type": "markdown",
   "id": "591d22ba",
   "metadata": {},
   "source": [
    "**Prepare transformer**"
   ]
  },
  {
   "cell_type": "code",
   "execution_count": 64,
   "id": "d478c624",
   "metadata": {},
   "outputs": [],
   "source": [
    "from sklearn.compose import make_column_transformer\n",
    "from sklearn.preprocessing import MinMaxScaler\n",
    "\n",
    "transformer = make_column_transformer(\n",
    "    (MinMaxScaler(), features_list)\n",
    ")"
   ]
  },
  {
   "cell_type": "markdown",
   "id": "f34fa2ef",
   "metadata": {},
   "source": [
    "**Split data**"
   ]
  },
  {
   "cell_type": "code",
   "execution_count": 65,
   "id": "44f41345",
   "metadata": {},
   "outputs": [
    {
     "data": {
      "text/plain": [
       "((4898, 11), (4898,))"
      ]
     },
     "execution_count": 65,
     "metadata": {},
     "output_type": "execute_result"
    }
   ],
   "source": [
    "X = df.drop('quality', axis=1)\n",
    "y = df['quality']\n",
    "X.shape, y.shape"
   ]
  },
  {
   "cell_type": "code",
   "execution_count": 66,
   "id": "5d9b7485",
   "metadata": {},
   "outputs": [
    {
     "data": {
      "text/plain": [
       "((3918, 11), (980, 11))"
      ]
     },
     "execution_count": 66,
     "metadata": {},
     "output_type": "execute_result"
    }
   ],
   "source": [
    "from sklearn.model_selection import train_test_split\n",
    "\n",
    "X_train, X_test, y_train, y_test = train_test_split(X, y, test_size=0.2, random_state=42)\n",
    "X_train.shape, X_test.shape"
   ]
  },
  {
   "cell_type": "markdown",
   "id": "81042273",
   "metadata": {},
   "source": [
    "**Scale values**"
   ]
  },
  {
   "cell_type": "code",
   "execution_count": 67,
   "id": "8d410458",
   "metadata": {},
   "outputs": [],
   "source": [
    "# Fit on the train set\n",
    "transformer.fit(X_train)\n",
    "\n",
    "# Apply the transformation\n",
    "X_train = transformer.transform(X_train)\n",
    "X_test = transformer.transform(X_test)"
   ]
  },
  {
   "cell_type": "code",
   "execution_count": 68,
   "id": "19016810",
   "metadata": {},
   "outputs": [
    {
     "data": {
      "text/plain": [
       "((3918, 11), (980, 11))"
      ]
     },
     "execution_count": 68,
     "metadata": {},
     "output_type": "execute_result"
    }
   ],
   "source": [
    "X_train.shape, X_test.shape"
   ]
  },
  {
   "cell_type": "code",
   "execution_count": 69,
   "id": "63c67047",
   "metadata": {},
   "outputs": [
    {
     "data": {
      "text/plain": [
       "array([0.4375    , 0.08823529, 0.21686747, 0.11656442, 0.05637982,\n",
       "       0.28571429, 0.33333333, 0.108155  , 0.38181818, 0.22093023,\n",
       "       0.70967742])"
      ]
     },
     "execution_count": 69,
     "metadata": {},
     "output_type": "execute_result"
    }
   ],
   "source": [
    "X_train[0]"
   ]
  },
  {
   "cell_type": "code",
   "execution_count": 70,
   "id": "89f29a75",
   "metadata": {},
   "outputs": [
    {
     "data": {
      "text/plain": [
       "array([[0.4375    , 0.08823529, 0.21686747, ..., 0.38181818, 0.22093023,\n",
       "        0.70967742],\n",
       "       [0.3125    , 0.16666667, 0.26506024, ..., 0.41818182, 0.34883721,\n",
       "        0.24193548],\n",
       "       [0.225     , 0.23529412, 0.19879518, ..., 0.48181818, 0.31395349,\n",
       "        0.5       ],\n",
       "       ...,\n",
       "       [0.475     , 0.18627451, 0.31325301, ..., 0.27272727, 0.36046512,\n",
       "        0.5483871 ],\n",
       "       [0.3125    , 0.15686275, 0.1746988 , ..., 0.40909091, 0.18604651,\n",
       "        0.41935484],\n",
       "       [0.5375    , 0.18627451, 0.21084337, ..., 0.45454545, 0.47674419,\n",
       "        0.38709677]])"
      ]
     },
     "execution_count": 70,
     "metadata": {},
     "output_type": "execute_result"
    }
   ],
   "source": [
    "X_train"
   ]
  },
  {
   "cell_type": "code",
   "execution_count": 71,
   "id": "d9a5b092",
   "metadata": {},
   "outputs": [
    {
     "data": {
      "text/plain": [
       "4665    6\n",
       "1943    5\n",
       "3399    6\n",
       "843     7\n",
       "2580    5\n",
       "       ..\n",
       "4426    6\n",
       "466     6\n",
       "3092    6\n",
       "3772    6\n",
       "860     8\n",
       "Name: quality, Length: 3918, dtype: int64"
      ]
     },
     "execution_count": 71,
     "metadata": {},
     "output_type": "execute_result"
    }
   ],
   "source": [
    "y_train"
   ]
  },
  {
   "cell_type": "code",
   "execution_count": 72,
   "id": "17ce6876",
   "metadata": {},
   "outputs": [
    {
     "data": {
      "text/plain": [
       "3918"
      ]
     },
     "execution_count": 72,
     "metadata": {},
     "output_type": "execute_result"
    }
   ],
   "source": [
    "# Remember the number of samples in the test set\n",
    "num_samples_train = len(X_train)\n",
    "num_samples_train"
   ]
  },
  {
   "cell_type": "code",
   "execution_count": 73,
   "id": "d10bdf32",
   "metadata": {},
   "outputs": [
    {
     "data": {
      "text/plain": [
       "980"
      ]
     },
     "execution_count": 73,
     "metadata": {},
     "output_type": "execute_result"
    }
   ],
   "source": [
    "num_samples_test = len(X_test)\n",
    "num_samples_test"
   ]
  },
  {
   "cell_type": "code",
   "execution_count": 74,
   "id": "90aa354a",
   "metadata": {},
   "outputs": [
    {
     "data": {
      "text/plain": [
       "11"
      ]
     },
     "execution_count": 74,
     "metadata": {},
     "output_type": "execute_result"
    }
   ],
   "source": [
    "X_train.shape[1]"
   ]
  },
  {
   "cell_type": "markdown",
   "id": "023cec93",
   "metadata": {},
   "source": [
    "## Uploading data to Edge Impulse\n",
    "\n",
    "### Settings\n",
    "Edge Impulse > your_project > Dashboard > Keys"
   ]
  },
  {
   "cell_type": "code",
   "execution_count": 79,
   "id": "b0f8e730",
   "metadata": {},
   "outputs": [],
   "source": [
    "import random, os, PIL, json, time, hmac, hashlib, requests, threading, queue"
   ]
  },
  {
   "cell_type": "code",
   "execution_count": 80,
   "id": "4bc9d3c0",
   "metadata": {},
   "outputs": [],
   "source": [
    "EI_API_KEY = \"ei_xxxx\" \n",
    "EI_HMAC_KEY = \"zzzzzz\""
   ]
  },
  {
   "cell_type": "code",
   "execution_count": 81,
   "id": "0f7a821a",
   "metadata": {},
   "outputs": [],
   "source": [
    "SENSORS_NAME = \"wine_sensors\"\n",
    "INTERVAL_MS = 1 "
   ]
  },
  {
   "cell_type": "markdown",
   "id": "bf817828",
   "metadata": {},
   "source": [
    "Number of threads to run to upload data to Edge Impulse"
   ]
  },
  {
   "cell_type": "code",
   "execution_count": 82,
   "id": "09f05176",
   "metadata": {},
   "outputs": [],
   "source": [
    "NUM_THREADS = 20"
   ]
  },
  {
   "cell_type": "code",
   "execution_count": 83,
   "id": "3efe0cc0",
   "metadata": {},
   "outputs": [
    {
     "data": {
      "text/plain": [
       "11"
      ]
     },
     "execution_count": 83,
     "metadata": {},
     "output_type": "execute_result"
    }
   ],
   "source": [
    "X_train.shape[1]"
   ]
  },
  {
   "cell_type": "code",
   "execution_count": 84,
   "id": "ebd5802c",
   "metadata": {},
   "outputs": [],
   "source": [
    "len_vector = X_train.shape[1]"
   ]
  },
  {
   "cell_type": "code",
   "execution_count": 85,
   "id": "4727b9a6",
   "metadata": {},
   "outputs": [],
   "source": [
    "random.seed(42)"
   ]
  },
  {
   "cell_type": "markdown",
   "id": "d6333545",
   "metadata": {},
   "source": [
    "Edge Impulse expect classes (label) as string, even for Regression. "
   ]
  },
  {
   "cell_type": "code",
   "execution_count": 75,
   "id": "3557e75d",
   "metadata": {},
   "outputs": [
    {
     "data": {
      "text/plain": [
       "((3918,), (980,))"
      ]
     },
     "execution_count": 75,
     "metadata": {},
     "output_type": "execute_result"
    }
   ],
   "source": [
    "y_train = np.char.mod('%d', y_train)\n",
    "y_test = np.char.mod('%d', y_test)\n",
    "y_train.shape, y_test.shape"
   ]
  },
  {
   "cell_type": "code",
   "execution_count": 78,
   "id": "b582a1e0",
   "metadata": {},
   "outputs": [
    {
     "data": {
      "text/plain": [
       "['3', '4', '5', '6', '7', '8', '9']"
      ]
     },
     "execution_count": 78,
     "metadata": {},
     "output_type": "execute_result"
    }
   ],
   "source": [
    "classes_values = list (set(y_train))\n",
    "classes_values.sort()\n",
    "classes_values"
   ]
  },
  {
   "cell_type": "code",
   "execution_count": 77,
   "id": "7cb097c9",
   "metadata": {},
   "outputs": [
    {
     "data": {
      "text/plain": [
       "['3', '4', '5', '6', '7', '8']"
      ]
     },
     "execution_count": 77,
     "metadata": {},
     "output_type": "execute_result"
    }
   ],
   "source": [
    "test_classes_values = list (set(y_test))\n",
    "test_classes_values.sort()\n",
    "test_classes_values"
   ]
  },
  {
   "cell_type": "markdown",
   "id": "d7d7fe2d",
   "metadata": {},
   "source": [
    "## Helper Functions\n",
    "The following functions are used to assist in task of uploading samples to your Edge Impulse project."
   ]
  },
  {
   "cell_type": "code",
   "execution_count": 86,
   "id": "b56cc81b",
   "metadata": {},
   "outputs": [],
   "source": [
    "def create_json_wrapper():\n",
    "    \"\"\"\n",
    "    Construct initial JSON wrapper as a template\n",
    "    \"\"\"\n",
    "\n",
    "    # Start with all zeros. Hs256 gives 32 bytes and we encode in hex. So, we need 64 characters here.\n",
    "    empty_signature = ''.join(['0'] * 64)\n",
    "\n",
    "    # Create JSON wrapper for data\n",
    "    data = {\n",
    "      \"protected\": {\n",
    "          \"ver\": \"v1\",\n",
    "          \"alg\": \"HS256\",\n",
    "          \"iat\": time.time()                  # Epoch time, seconds since 1970\n",
    "      },\n",
    "      \"signature\": empty_signature,\n",
    "      \"payload\": {\n",
    "          \"device_type\": \"pre-made\",          # Pre-made dataset (not collected)\n",
    "          \"interval_ms\": INTERVAL_MS,         # Pretend it's interval of 1 ms\n",
    "          \"sensors\": [\n",
    "              { \"name\": SENSORS_NAME, \"units\": \"B\" } # Unitless (\"Byte\" data)\n",
    "          ],\n",
    "          \"values\": []\n",
    "      }\n",
    "    }\n",
    "\n",
    "    return data"
   ]
  },
  {
   "cell_type": "code",
   "execution_count": 87,
   "id": "f9480857",
   "metadata": {},
   "outputs": [],
   "source": [
    "def send_sample(data, label, test_set=False):\n",
    "    \"\"\"\n",
    "    Send raw data sample to Edge Impulse project, return HTTP status code\n",
    "    \"\"\"\n",
    "\n",
    "    # Encode message in JSON format\n",
    "    encoded = json.dumps(data)\n",
    "\n",
    "    # Sign message\n",
    "    signature = hmac.new(bytes(EI_HMAC_KEY, 'utf-8'), \n",
    "                      msg = encoded.encode('utf-8'), \n",
    "                      digestmod = hashlib.sha256).hexdigest()\n",
    "\n",
    "    # Set the signature in the message and encode data again to JSON format\n",
    "    data['signature'] = signature\n",
    "    encoded = json.dumps(data)\n",
    "\n",
    "    # Construct URL based on dataset being sent\n",
    "    if test_set:\n",
    "        url = 'https://ingestion.edgeimpulse.com/api/testing/data'\n",
    "    else:\n",
    "        url = 'https://ingestion.edgeimpulse.com/api/training/data'\n",
    "\n",
    "    # Upload the data to project\n",
    "    res = requests.post(url=url,\n",
    "                      data=encoded,\n",
    "                      headers={\n",
    "                          'Content-Type': 'application/json',\n",
    "                          'x-file-name': str(label),\n",
    "                          'x-api-key': EI_API_KEY\n",
    "                      })\n",
    "\n",
    "    return res"
   ]
  },
  {
   "cell_type": "code",
   "execution_count": 88,
   "id": "c8b2f103",
   "metadata": {},
   "outputs": [],
   "source": [
    "def upload_sample(len_vector, is_test_set):\n",
    "    \"\"\"\n",
    "    Pull sample and label from queue and send to Edge Impulse server. To be called within a thread.\n",
    "    \"\"\"\n",
    "\n",
    "    global q\n",
    "\n",
    "    while not q.empty():\n",
    "\n",
    "        # Start with empty JSON wrapper\n",
    "        data = create_json_wrapper()\n",
    "\n",
    "        # Fill up values field (we need to convert to float to avoid JSON error)\n",
    "        sample, label = q.get()\n",
    "        for j in range(len_vector):\n",
    "            data['payload']['values'].append(float(sample[j]))\n",
    "\n",
    "        # Send sample\n",
    "        res = send_sample(data, label, test_set=is_test_set)\n",
    "\n",
    "        # Check response code\n",
    "        if (res.status_code != 200):\n",
    "            print(\"Failed to upload file to Edge Impulse\", res.status_code, res.content)"
   ]
  },
  {
   "cell_type": "markdown",
   "id": "d89929e7",
   "metadata": {},
   "source": [
    "## Upload training and test sets to Edge Impulse"
   ]
  },
  {
   "cell_type": "code",
   "execution_count": 89,
   "id": "0aa54b98",
   "metadata": {},
   "outputs": [],
   "source": [
    "#Use many threads to send training data and labels to Edge Impulse project\n",
    "\n",
    "# Fill queue with training data and labels\n",
    "q = queue.Queue()\n",
    "for i in range(num_samples_train):\n",
    "    q.put((X_train[i], y_train[i]))\n",
    "\n",
    "# Create and start threads\n",
    "threads = []\n",
    "for i in range(NUM_THREADS):\n",
    "    threads.append(threading.Thread(target=upload_sample, args=(len_vector, False)))\n",
    "    threads[i].start()\n",
    "\n",
    "# Wait for threads to be done\n",
    "for thread in threads:\n",
    "    thread.join()"
   ]
  },
  {
   "cell_type": "code",
   "execution_count": 90,
   "id": "24d9b4f7",
   "metadata": {},
   "outputs": [],
   "source": [
    "### Use many threads to send test data and labels to Edge Impulse project\n",
    "\n",
    "# Fill queue with test data and labels\n",
    "q = queue.Queue()\n",
    "for i in range(num_samples_test):\n",
    "    q.put((X_test[i], y_test[i]))\n",
    "\n",
    "# Create and start threads\n",
    "threads = []\n",
    "for i in range(NUM_THREADS):\n",
    "    threads.append(threading.Thread(target=upload_sample, args=(len_vector, True)))\n",
    "    threads[i].start()\n",
    "\n",
    "# Wait for threads to be done\n",
    "for thread in threads:\n",
    "    thread.join()"
   ]
  },
  {
   "cell_type": "code",
   "execution_count": null,
   "id": "eefb713f",
   "metadata": {},
   "outputs": [],
   "source": []
  },
  {
   "cell_type": "code",
   "execution_count": null,
   "id": "46326e57",
   "metadata": {},
   "outputs": [],
   "source": []
  }
 ],
 "metadata": {
  "kernelspec": {
   "display_name": "Python 3.9 (tensorflow)",
   "language": "python",
   "name": "tensorflow"
  },
  "language_info": {
   "codemirror_mode": {
    "name": "ipython",
    "version": 3
   },
   "file_extension": ".py",
   "mimetype": "text/x-python",
   "name": "python",
   "nbconvert_exporter": "python",
   "pygments_lexer": "ipython3",
   "version": "3.9.7"
  }
 },
 "nbformat": 4,
 "nbformat_minor": 5
}
