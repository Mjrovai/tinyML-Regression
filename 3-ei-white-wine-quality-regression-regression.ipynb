{
 "cells": [
  {
   "cell_type": "markdown",
   "metadata": {},
   "source": [
    "Download the data - after extracting features through a processing block - so we can train a machine learning model."
   ]
  },
  {
   "cell_type": "code",
   "execution_count": 53,
   "metadata": {},
   "outputs": [],
   "source": [
    "import numpy as np\n",
    "import requests\n",
    "\n",
    "API_KEY = 'ei_xxx'\n",
    "\n",
    "def download_data(url):\n",
    "    response = requests.get(url, headers={'x-api-key': API_KEY})\n",
    "    if response.status_code == 200:\n",
    "        return response.content\n",
    "    else:\n",
    "        print(response.content)\n",
    "        raise ConnectionError('Could not download data file')\n",
    "\n",
    "X = download_data('https://studio.edgeimpulse.com/v1/api/81068/training/5/x')\n",
    "Y = download_data('https://studio.edgeimpulse.com/v1/api/81068/training/5/y')\n"
   ]
  },
  {
   "cell_type": "markdown",
   "metadata": {},
   "source": [
    "Store the data in a temporary file, and load it back through Numpy."
   ]
  },
  {
   "cell_type": "code",
   "execution_count": 54,
   "metadata": {},
   "outputs": [],
   "source": [
    "with open('x_train.npy', 'wb') as file:\n",
    "    file.write(X)\n",
    "with open('y_train.npy', 'wb') as file:\n",
    "    file.write(Y)\n",
    "X = np.load('x_train.npy')\n",
    "Y = np.load('y_train.npy')[:,0]"
   ]
  },
  {
   "cell_type": "code",
   "execution_count": 55,
   "metadata": {},
   "outputs": [
    {
     "data": {
      "text/plain": [
       "((3918, 11), (3918,))"
      ]
     },
     "execution_count": 55,
     "metadata": {},
     "output_type": "execute_result"
    }
   ],
   "source": [
    "X.shape, Y.shape"
   ]
  },
  {
   "cell_type": "code",
   "execution_count": 56,
   "metadata": {},
   "outputs": [
    {
     "data": {
      "text/plain": [
       "array([6, 4, 4, ..., 5, 5, 4], dtype=int32)"
      ]
     },
     "execution_count": 56,
     "metadata": {},
     "output_type": "execute_result"
    }
   ],
   "source": [
    "Y"
   ]
  },
  {
   "cell_type": "code",
   "execution_count": 57,
   "metadata": {},
   "outputs": [
    {
     "data": {
      "text/plain": [
       "{1, 2, 3, 4, 5, 6, 7}"
      ]
     },
     "execution_count": 57,
     "metadata": {},
     "output_type": "execute_result"
    }
   ],
   "source": [
    "set(Y)"
   ]
  },
  {
   "cell_type": "markdown",
   "metadata": {},
   "source": [
    "Define our labels and split the data up in a test and training set:"
   ]
  },
  {
   "cell_type": "code",
   "execution_count": 58,
   "metadata": {},
   "outputs": [],
   "source": [
    "import sys, os, random\n",
    "import tensorflow as tf\n",
    "from sklearn.model_selection import train_test_split\n",
    "\n",
    "import logging\n",
    "tf.get_logger().setLevel(logging.ERROR)\n",
    "os.environ['TF_CPP_MIN_LOG_LEVEL'] = '2'\n",
    "\n",
    "# Set random seeds for repeatable results\n",
    "RANDOM_SEED = 3\n",
    "random.seed(RANDOM_SEED)\n",
    "np.random.seed(RANDOM_SEED)\n",
    "tf.random.set_seed(RANDOM_SEED)\n",
    "\n",
    "classes_values = [ \"3\", \"4\", \"5\", \"6\", \"7\", \"8\", \"9\" ]\n",
    "classes = len(classes_values)\n",
    "\n",
    "Y = tf.keras.utils.to_categorical(Y - 1, classes)\n",
    "\n",
    "X_train, X_test, Y_train, Y_test = train_test_split(X, Y, test_size=0.2, random_state=1)\n",
    "\n",
    "input_length = X_train[0].shape[0]\n",
    "\n",
    "train_dataset = tf.data.Dataset.from_tensor_slices((X_train, Y_train))\n",
    "validation_dataset = tf.data.Dataset.from_tensor_slices((X_test, Y_test))\n",
    "\n",
    "def get_reshape_function(reshape_to):\n",
    "    def reshape(image, label):\n",
    "        return tf.reshape(image, reshape_to), label\n",
    "    return reshape\n",
    "\n",
    "callbacks = []\n"
   ]
  },
  {
   "cell_type": "markdown",
   "metadata": {},
   "source": [
    "Train the model:"
   ]
  },
  {
   "cell_type": "code",
   "execution_count": 59,
   "metadata": {
    "scrolled": true
   },
   "outputs": [
    {
     "name": "stdout",
     "output_type": "stream",
     "text": [
      "Epoch 1/100\n",
      "98/98 - 1s - loss: 0.1150 - mae: 0.2069 - val_loss: 0.1012 - val_mae: 0.2031\n",
      "Epoch 2/100\n",
      "98/98 - 1s - loss: 0.0971 - mae: 0.2000 - val_loss: 0.0942 - val_mae: 0.1954\n",
      "Epoch 3/100\n",
      "98/98 - 1s - loss: 0.0937 - mae: 0.1934 - val_loss: 0.0916 - val_mae: 0.1909\n",
      "Epoch 4/100\n",
      "98/98 - 1s - loss: 0.0918 - mae: 0.1892 - val_loss: 0.0897 - val_mae: 0.1875\n",
      "Epoch 5/100\n",
      "98/98 - 1s - loss: 0.0903 - mae: 0.1857 - val_loss: 0.0884 - val_mae: 0.1847\n",
      "Epoch 6/100\n",
      "98/98 - 1s - loss: 0.0892 - mae: 0.1834 - val_loss: 0.0877 - val_mae: 0.1828\n",
      "Epoch 7/100\n",
      "98/98 - 1s - loss: 0.0885 - mae: 0.1820 - val_loss: 0.0872 - val_mae: 0.1817\n",
      "Epoch 8/100\n",
      "98/98 - 1s - loss: 0.0879 - mae: 0.1811 - val_loss: 0.0869 - val_mae: 0.1814\n",
      "Epoch 9/100\n",
      "98/98 - 1s - loss: 0.0874 - mae: 0.1804 - val_loss: 0.0867 - val_mae: 0.1805\n",
      "Epoch 10/100\n",
      "98/98 - 1s - loss: 0.0870 - mae: 0.1797 - val_loss: 0.0865 - val_mae: 0.1799\n",
      "Epoch 11/100\n",
      "98/98 - 1s - loss: 0.0867 - mae: 0.1791 - val_loss: 0.0863 - val_mae: 0.1793\n",
      "Epoch 12/100\n",
      "98/98 - 1s - loss: 0.0864 - mae: 0.1786 - val_loss: 0.0862 - val_mae: 0.1790\n",
      "Epoch 13/100\n",
      "98/98 - 1s - loss: 0.0862 - mae: 0.1780 - val_loss: 0.0860 - val_mae: 0.1786\n",
      "Epoch 14/100\n",
      "98/98 - 1s - loss: 0.0860 - mae: 0.1776 - val_loss: 0.0859 - val_mae: 0.1782\n",
      "Epoch 15/100\n",
      "98/98 - 1s - loss: 0.0858 - mae: 0.1771 - val_loss: 0.0858 - val_mae: 0.1777\n",
      "Epoch 16/100\n",
      "98/98 - 1s - loss: 0.0856 - mae: 0.1768 - val_loss: 0.0857 - val_mae: 0.1774\n",
      "Epoch 17/100\n",
      "98/98 - 1s - loss: 0.0854 - mae: 0.1764 - val_loss: 0.0856 - val_mae: 0.1771\n",
      "Epoch 18/100\n",
      "98/98 - 1s - loss: 0.0853 - mae: 0.1760 - val_loss: 0.0855 - val_mae: 0.1767\n",
      "Epoch 19/100\n",
      "98/98 - 1s - loss: 0.0851 - mae: 0.1757 - val_loss: 0.0854 - val_mae: 0.1764\n",
      "Epoch 20/100\n",
      "98/98 - 1s - loss: 0.0850 - mae: 0.1755 - val_loss: 0.0854 - val_mae: 0.1761\n",
      "Epoch 21/100\n",
      "98/98 - 1s - loss: 0.0849 - mae: 0.1752 - val_loss: 0.0853 - val_mae: 0.1758\n",
      "Epoch 22/100\n",
      "98/98 - 1s - loss: 0.0848 - mae: 0.1749 - val_loss: 0.0853 - val_mae: 0.1755\n",
      "Epoch 23/100\n",
      "98/98 - 1s - loss: 0.0847 - mae: 0.1748 - val_loss: 0.0852 - val_mae: 0.1753\n",
      "Epoch 24/100\n",
      "98/98 - 1s - loss: 0.0846 - mae: 0.1745 - val_loss: 0.0852 - val_mae: 0.1752\n",
      "Epoch 25/100\n",
      "98/98 - 1s - loss: 0.0845 - mae: 0.1744 - val_loss: 0.0851 - val_mae: 0.1749\n",
      "Epoch 26/100\n",
      "98/98 - 1s - loss: 0.0844 - mae: 0.1742 - val_loss: 0.0850 - val_mae: 0.1748\n",
      "Epoch 27/100\n",
      "98/98 - 1s - loss: 0.0843 - mae: 0.1740 - val_loss: 0.0850 - val_mae: 0.1746\n",
      "Epoch 28/100\n",
      "98/98 - 1s - loss: 0.0842 - mae: 0.1738 - val_loss: 0.0849 - val_mae: 0.1746\n",
      "Epoch 29/100\n",
      "98/98 - 1s - loss: 0.0841 - mae: 0.1736 - val_loss: 0.0849 - val_mae: 0.1745\n",
      "Epoch 30/100\n",
      "98/98 - 1s - loss: 0.0840 - mae: 0.1734 - val_loss: 0.0848 - val_mae: 0.1745\n",
      "Epoch 31/100\n",
      "98/98 - 1s - loss: 0.0840 - mae: 0.1733 - val_loss: 0.0848 - val_mae: 0.1744\n",
      "Epoch 32/100\n",
      "98/98 - 1s - loss: 0.0839 - mae: 0.1731 - val_loss: 0.0848 - val_mae: 0.1742\n",
      "Epoch 33/100\n",
      "98/98 - 1s - loss: 0.0838 - mae: 0.1730 - val_loss: 0.0848 - val_mae: 0.1741\n",
      "Epoch 34/100\n",
      "98/98 - 1s - loss: 0.0838 - mae: 0.1729 - val_loss: 0.0847 - val_mae: 0.1740\n",
      "Epoch 35/100\n",
      "98/98 - 1s - loss: 0.0837 - mae: 0.1728 - val_loss: 0.0847 - val_mae: 0.1739\n",
      "Epoch 36/100\n",
      "98/98 - 1s - loss: 0.0836 - mae: 0.1726 - val_loss: 0.0846 - val_mae: 0.1738\n",
      "Epoch 37/100\n",
      "98/98 - 1s - loss: 0.0835 - mae: 0.1724 - val_loss: 0.0846 - val_mae: 0.1738\n",
      "Epoch 38/100\n",
      "98/98 - 1s - loss: 0.0835 - mae: 0.1723 - val_loss: 0.0846 - val_mae: 0.1737\n",
      "Epoch 39/100\n",
      "98/98 - 1s - loss: 0.0834 - mae: 0.1722 - val_loss: 0.0845 - val_mae: 0.1737\n",
      "Epoch 40/100\n",
      "98/98 - 1s - loss: 0.0833 - mae: 0.1720 - val_loss: 0.0845 - val_mae: 0.1736\n",
      "Epoch 41/100\n",
      "98/98 - 1s - loss: 0.0833 - mae: 0.1719 - val_loss: 0.0845 - val_mae: 0.1736\n",
      "Epoch 42/100\n",
      "98/98 - 1s - loss: 0.0832 - mae: 0.1718 - val_loss: 0.0845 - val_mae: 0.1735\n",
      "Epoch 43/100\n",
      "98/98 - 1s - loss: 0.0832 - mae: 0.1717 - val_loss: 0.0844 - val_mae: 0.1734\n",
      "Epoch 44/100\n",
      "98/98 - 1s - loss: 0.0831 - mae: 0.1716 - val_loss: 0.0844 - val_mae: 0.1733\n",
      "Epoch 45/100\n",
      "98/98 - 1s - loss: 0.0831 - mae: 0.1715 - val_loss: 0.0844 - val_mae: 0.1732\n",
      "Epoch 46/100\n",
      "98/98 - 1s - loss: 0.0830 - mae: 0.1714 - val_loss: 0.0843 - val_mae: 0.1731\n",
      "Epoch 47/100\n",
      "98/98 - 1s - loss: 0.0830 - mae: 0.1713 - val_loss: 0.0843 - val_mae: 0.1730\n",
      "Epoch 48/100\n",
      "98/98 - 1s - loss: 0.0829 - mae: 0.1712 - val_loss: 0.0843 - val_mae: 0.1729\n",
      "Epoch 49/100\n",
      "98/98 - 1s - loss: 0.0829 - mae: 0.1711 - val_loss: 0.0843 - val_mae: 0.1729\n",
      "Epoch 50/100\n",
      "98/98 - 1s - loss: 0.0828 - mae: 0.1710 - val_loss: 0.0843 - val_mae: 0.1728\n",
      "Epoch 51/100\n",
      "98/98 - 1s - loss: 0.0828 - mae: 0.1709 - val_loss: 0.0842 - val_mae: 0.1727\n",
      "Epoch 52/100\n",
      "98/98 - 1s - loss: 0.0827 - mae: 0.1709 - val_loss: 0.0842 - val_mae: 0.1726\n",
      "Epoch 53/100\n",
      "98/98 - 1s - loss: 0.0827 - mae: 0.1708 - val_loss: 0.0842 - val_mae: 0.1725\n",
      "Epoch 54/100\n",
      "98/98 - 1s - loss: 0.0827 - mae: 0.1707 - val_loss: 0.0842 - val_mae: 0.1725\n",
      "Epoch 55/100\n",
      "98/98 - 1s - loss: 0.0826 - mae: 0.1706 - val_loss: 0.0842 - val_mae: 0.1724\n",
      "Epoch 56/100\n",
      "98/98 - 1s - loss: 0.0826 - mae: 0.1705 - val_loss: 0.0841 - val_mae: 0.1723\n",
      "Epoch 57/100\n",
      "98/98 - 1s - loss: 0.0825 - mae: 0.1705 - val_loss: 0.0841 - val_mae: 0.1721\n",
      "Epoch 58/100\n",
      "98/98 - 1s - loss: 0.0825 - mae: 0.1703 - val_loss: 0.0841 - val_mae: 0.1721\n",
      "Epoch 59/100\n",
      "98/98 - 1s - loss: 0.0825 - mae: 0.1702 - val_loss: 0.0841 - val_mae: 0.1719\n",
      "Epoch 60/100\n",
      "98/98 - 1s - loss: 0.0824 - mae: 0.1701 - val_loss: 0.0840 - val_mae: 0.1718\n",
      "Epoch 61/100\n",
      "98/98 - 1s - loss: 0.0824 - mae: 0.1701 - val_loss: 0.0840 - val_mae: 0.1717\n",
      "Epoch 62/100\n",
      "98/98 - 1s - loss: 0.0824 - mae: 0.1700 - val_loss: 0.0840 - val_mae: 0.1717\n",
      "Epoch 63/100\n",
      "98/98 - 1s - loss: 0.0823 - mae: 0.1699 - val_loss: 0.0840 - val_mae: 0.1716\n",
      "Epoch 64/100\n",
      "98/98 - 1s - loss: 0.0823 - mae: 0.1698 - val_loss: 0.0839 - val_mae: 0.1715\n",
      "Epoch 65/100\n",
      "98/98 - 1s - loss: 0.0822 - mae: 0.1697 - val_loss: 0.0839 - val_mae: 0.1714\n",
      "Epoch 66/100\n",
      "98/98 - 1s - loss: 0.0822 - mae: 0.1696 - val_loss: 0.0839 - val_mae: 0.1714\n",
      "Epoch 67/100\n",
      "98/98 - 1s - loss: 0.0822 - mae: 0.1696 - val_loss: 0.0839 - val_mae: 0.1713\n",
      "Epoch 68/100\n",
      "98/98 - 1s - loss: 0.0821 - mae: 0.1695 - val_loss: 0.0839 - val_mae: 0.1712\n",
      "Epoch 69/100\n",
      "98/98 - 1s - loss: 0.0821 - mae: 0.1694 - val_loss: 0.0839 - val_mae: 0.1712\n",
      "Epoch 70/100\n",
      "98/98 - 1s - loss: 0.0821 - mae: 0.1693 - val_loss: 0.0839 - val_mae: 0.1711\n",
      "Epoch 71/100\n",
      "98/98 - 1s - loss: 0.0820 - mae: 0.1693 - val_loss: 0.0838 - val_mae: 0.1711\n",
      "Epoch 72/100\n",
      "98/98 - 1s - loss: 0.0820 - mae: 0.1691 - val_loss: 0.0839 - val_mae: 0.1710\n",
      "Epoch 73/100\n",
      "98/98 - 1s - loss: 0.0820 - mae: 0.1691 - val_loss: 0.0838 - val_mae: 0.1709\n",
      "Epoch 74/100\n",
      "98/98 - 1s - loss: 0.0819 - mae: 0.1690 - val_loss: 0.0839 - val_mae: 0.1709\n",
      "Epoch 75/100\n",
      "98/98 - 1s - loss: 0.0819 - mae: 0.1689 - val_loss: 0.0838 - val_mae: 0.1709\n",
      "Epoch 76/100\n",
      "98/98 - 1s - loss: 0.0819 - mae: 0.1688 - val_loss: 0.0838 - val_mae: 0.1708\n",
      "Epoch 77/100\n",
      "98/98 - 1s - loss: 0.0818 - mae: 0.1687 - val_loss: 0.0838 - val_mae: 0.1707\n",
      "Epoch 78/100\n",
      "98/98 - 1s - loss: 0.0818 - mae: 0.1687 - val_loss: 0.0838 - val_mae: 0.1706\n",
      "Epoch 79/100\n",
      "98/98 - 1s - loss: 0.0818 - mae: 0.1686 - val_loss: 0.0838 - val_mae: 0.1706\n",
      "Epoch 80/100\n",
      "98/98 - 1s - loss: 0.0818 - mae: 0.1686 - val_loss: 0.0838 - val_mae: 0.1705\n",
      "Epoch 81/100\n",
      "98/98 - 1s - loss: 0.0817 - mae: 0.1685 - val_loss: 0.0838 - val_mae: 0.1704\n",
      "Epoch 82/100\n",
      "98/98 - 1s - loss: 0.0817 - mae: 0.1684 - val_loss: 0.0837 - val_mae: 0.1704\n",
      "Epoch 83/100\n",
      "98/98 - 1s - loss: 0.0817 - mae: 0.1684 - val_loss: 0.0837 - val_mae: 0.1703\n",
      "Epoch 84/100\n",
      "98/98 - 1s - loss: 0.0817 - mae: 0.1682 - val_loss: 0.0837 - val_mae: 0.1703\n",
      "Epoch 85/100\n",
      "98/98 - 1s - loss: 0.0816 - mae: 0.1682 - val_loss: 0.0837 - val_mae: 0.1703\n",
      "Epoch 86/100\n",
      "98/98 - 1s - loss: 0.0816 - mae: 0.1681 - val_loss: 0.0837 - val_mae: 0.1702\n",
      "Epoch 87/100\n",
      "98/98 - 1s - loss: 0.0816 - mae: 0.1680 - val_loss: 0.0837 - val_mae: 0.1701\n",
      "Epoch 88/100\n",
      "98/98 - 1s - loss: 0.0816 - mae: 0.1680 - val_loss: 0.0837 - val_mae: 0.1701\n",
      "Epoch 89/100\n",
      "98/98 - 1s - loss: 0.0815 - mae: 0.1679 - val_loss: 0.0837 - val_mae: 0.1700\n",
      "Epoch 90/100\n",
      "98/98 - 1s - loss: 0.0815 - mae: 0.1678 - val_loss: 0.0837 - val_mae: 0.1700\n",
      "Epoch 91/100\n",
      "98/98 - 1s - loss: 0.0815 - mae: 0.1678 - val_loss: 0.0837 - val_mae: 0.1700\n",
      "Epoch 92/100\n"
     ]
    },
    {
     "name": "stdout",
     "output_type": "stream",
     "text": [
      "98/98 - 1s - loss: 0.0814 - mae: 0.1677 - val_loss: 0.0837 - val_mae: 0.1699\n",
      "Epoch 93/100\n",
      "98/98 - 1s - loss: 0.0814 - mae: 0.1677 - val_loss: 0.0837 - val_mae: 0.1698\n",
      "Epoch 94/100\n",
      "98/98 - 1s - loss: 0.0814 - mae: 0.1676 - val_loss: 0.0837 - val_mae: 0.1698\n",
      "Epoch 95/100\n",
      "98/98 - 1s - loss: 0.0814 - mae: 0.1676 - val_loss: 0.0837 - val_mae: 0.1698\n",
      "Epoch 96/100\n",
      "98/98 - 1s - loss: 0.0814 - mae: 0.1675 - val_loss: 0.0838 - val_mae: 0.1698\n",
      "Epoch 97/100\n",
      "98/98 - 1s - loss: 0.0814 - mae: 0.1675 - val_loss: 0.0837 - val_mae: 0.1698\n",
      "Epoch 98/100\n",
      "98/98 - 1s - loss: 0.0813 - mae: 0.1674 - val_loss: 0.0838 - val_mae: 0.1697\n",
      "Epoch 99/100\n",
      "98/98 - 1s - loss: 0.0813 - mae: 0.1673 - val_loss: 0.0837 - val_mae: 0.1697\n",
      "Epoch 100/100\n",
      "98/98 - 1s - loss: 0.0813 - mae: 0.1673 - val_loss: 0.0837 - val_mae: 0.1696\n"
     ]
    }
   ],
   "source": [
    "import tensorflow as tf\n",
    "from tensorflow.keras.models import Sequential\n",
    "from tensorflow.keras.layers import Dense, InputLayer, Dropout, Conv1D, Conv2D, Flatten, Reshape, MaxPooling1D, MaxPooling2D, BatchNormalization, TimeDistributed\n",
    "from tensorflow.keras.optimizers import Adam\n",
    "\n",
    "# model architecture\n",
    "model = Sequential()\n",
    "model.add(Dense(20, activation='relu'))\n",
    "model.add(Dense(10, activation='relu'))\n",
    "model.add(Dense(classes, name='y_pred'))\n",
    "\n",
    "# this controls the learning rate\n",
    "opt = Adam(learning_rate=0.001, beta_1=0.9, beta_2=0.999)\n",
    "# this controls the batch size, or you can manipulate the tf.data.Dataset objects yourself\n",
    "BATCH_SIZE = 32\n",
    "train_dataset = train_dataset.batch(BATCH_SIZE, drop_remainder=False)\n",
    "validation_dataset = validation_dataset.batch(BATCH_SIZE, drop_remainder=False)\n",
    "\n",
    "# train the neural network\n",
    "model.compile(loss='mse',\n",
    "              metrics=['mae'], \n",
    "              optimizer=opt)\n",
    "\n",
    "history = model.fit(train_dataset, \n",
    "                    epochs=100, \n",
    "                    validation_data=validation_dataset, \n",
    "                    verbose=2, \n",
    "                    callbacks=callbacks)\n",
    "\n",
    "# Use this flag to disable per-channel quantization for a model.\n",
    "# This can reduce RAM usage for convolutional models, but may have\n",
    "# an impact on accuracy.\n",
    "disable_per_channel_quantization = False\n"
   ]
  },
  {
   "cell_type": "code",
   "execution_count": 60,
   "metadata": {},
   "outputs": [],
   "source": [
    "import matplotlib.pyplot as plt\n",
    "from matplotlib import rcParams\n",
    "\n",
    "rcParams['figure.figsize'] = (10, 6)\n",
    "rcParams['axes.spines.top'] = False\n",
    "rcParams['axes.spines.right'] = False"
   ]
  },
  {
   "cell_type": "code",
   "execution_count": 61,
   "metadata": {},
   "outputs": [
    {
     "data": {
      "image/png": "[encoded data removed]",
      "text/plain": [
       "<Figure size 720x432 with 1 Axes>"
      ]
     },
     "metadata": {
      "needs_background": "light"
     },
     "output_type": "display_data"
    }
   ],
   "source": [
    "plt.plot(history.history['loss'][2:], label='loss')\n",
    "plt.plot(history.history['val_loss'][2:], label='val_loss')\n",
    "plt.title('model loss')\n",
    "plt.ylabel('loss')\n",
    "plt.xlabel('epoch')\n",
    "plt.legend(loc='upper right')\n",
    "plt.show()"
   ]
  },
  {
   "cell_type": "code",
   "execution_count": 62,
   "metadata": {},
   "outputs": [
    {
     "data": {
      "image/png": "[encoded data removed]",
      "text/plain": [
       "<Figure size 720x432 with 1 Axes>"
      ]
     },
     "metadata": {
      "needs_background": "light"
     },
     "output_type": "display_data"
    }
   ],
   "source": [
    "plt.plot(history.history['mae'][2:], label='mae')\n",
    "plt.plot(history.history['val_mae'][2:], label='val_mae')\n",
    "plt.title('model loss')\n",
    "plt.ylabel('mae')\n",
    "plt.xlabel('epoch')\n",
    "plt.legend(loc='upper right')\n",
    "plt.show()"
   ]
  },
  {
   "cell_type": "markdown",
   "metadata": {},
   "source": [
    "## Testing"
   ]
  },
  {
   "cell_type": "code",
   "execution_count": 29,
   "metadata": {},
   "outputs": [
    {
     "data": {
      "text/plain": [
       "5.09334905911237"
      ]
     },
     "execution_count": 29,
     "metadata": {},
     "output_type": "execute_result"
    }
   ],
   "source": [
    "tst = np.array([0.3000, 0.1716, 0.1446, 0.0169, 0.0890, 0.9443, 0.8647, 0.1429, 0.7364, 0.3605, 0.2581])\n",
    "tst = np.reshape(tst, (1, X_train.shape[1]))\n",
    "model.predict(tst)\n",
    "p = model.predict(tst)[0]\n",
    "p[0]*3 + p[1]*4 + p[2]*5 + p[3]*6 + p[4]*7 + p[5]*8"
   ]
  },
  {
   "cell_type": "code",
   "execution_count": 30,
   "metadata": {},
   "outputs": [
    {
     "data": {
      "text/plain": [
       "6.243083450943232"
      ]
     },
     "execution_count": 30,
     "metadata": {},
     "output_type": "execute_result"
    }
   ],
   "source": [
    "tst = np.array([0.2500, 0.1176, 0.1446, 0.0123, 0.0712, 0.4321, 0.5248, 0.0640, 0.7909, 0.3953, 0.6935])\n",
    "tst = np.reshape(tst, (1, X_train.shape[1]))\n",
    "model.predict(tst)\n",
    "p = model.predict(tst)[0]\n",
    "p[0]*3 + p[1]*4 + p[2]*5 + p[3]*6 + p[4]*7 + p[5]*8"
   ]
  },
  {
   "cell_type": "code",
   "execution_count": null,
   "metadata": {},
   "outputs": [],
   "source": []
  },
  {
   "cell_type": "code",
   "execution_count": null,
   "metadata": {},
   "outputs": [],
   "source": [
    "# Save the model to disk\n",
    "model.save('saved_model')"
   ]
  },
  {
   "cell_type": "code",
   "execution_count": null,
   "metadata": {},
   "outputs": [],
   "source": []
  }
 ],
 "metadata": {
  "kernelspec": {
   "display_name": "Python 3.9 (tensorflow)",
   "language": "python",
   "name": "tensorflow"
  },
  "language_info": {
   "codemirror_mode": {
    "name": "ipython",
    "version": 3
   },
   "file_extension": ".py",
   "mimetype": "text/x-python",
   "name": "python",
   "nbconvert_exporter": "python",
   "pygments_lexer": "ipython3",
   "version": "3.9.7"
  }
 },
 "nbformat": 4,
 "nbformat_minor": 4
}
